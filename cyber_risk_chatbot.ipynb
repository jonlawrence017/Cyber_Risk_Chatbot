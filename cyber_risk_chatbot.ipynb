{
 "cells": [
  {
   "cell_type": "code",
   "execution_count": 4,
   "id": "5bf29ab9-9ee4-418b-9953-6fbaee124037",
   "metadata": {},
   "outputs": [
    {
     "name": "stderr",
     "output_type": "stream",
     "text": [
      "Device set to use cpu\n"
     ]
    },
    {
     "name": "stdout",
     "output_type": "stream",
     "text": [
      "Input: We use cloud servers\n",
      "Response: Given the user input: 'We use cloud servers' and threat data: 'Vulnerability: Ransomware, Risk: Critical, Mitigation: Implement MFA, regular backups', provide a concise cybersecurity risk assessment. However, this list is limited in terms of how many vulnerabilities it deals with.\n",
      "\n",
      "A vulnerability in Android phones: It is highly unlikely that the vulnerability in our application is used in the Android platform but that it could. In this section, we will examine more in-depth\n"
     ]
    }
   ],
   "source": [
    "import sqlite3\n",
    "import pandas as pd\n",
    "import torch\n",
    "from transformers import DistilBertTokenizer, DistilBertForSequenceClassification, Trainer, TrainingArguments\n",
    "from langchain_community.llms import HuggingFacePipeline\n",
    "from langchain.prompts import PromptTemplate\n",
    "from langchain_core.runnables import RunnableSequence\n",
    "import os\n",
    "\n",
    "# Suppress TensorFlow warnings\n",
    "os.environ['TF_CPP_MIN_LOG_LEVEL'] = '3'\n",
    "\n",
    "# Initialize Mock Database\n",
    "def init_db():\n",
    "    conn = sqlite3.connect('cyber_threats.db')\n",
    "    c = conn.cursor()\n",
    "    c.execute('''CREATE TABLE IF NOT EXISTS threats\n",
    "                 (id INTEGER PRIMARY KEY, vulnerability TEXT, risk_level TEXT, mitigation TEXT)''')\n",
    "    c.execute(\"INSERT OR IGNORE INTO threats VALUES (1, 'Phishing', 'High', 'Enable email filtering, train employees')\")\n",
    "    c.execute(\"INSERT OR IGNORE INTO threats VALUES (2, 'Ransomware', 'Critical', 'Implement MFA, regular backups')\")\n",
    "    conn.commit()\n",
    "    return conn\n",
    "\n",
    "# Query Database for Threat Data\n",
    "def query_threat(vulnerability):\n",
    "    conn = init_db()\n",
    "    c = conn.cursor()\n",
    "    c.execute(\"SELECT risk_level, mitigation FROM threats WHERE vulnerability = ?\", (vulnerability,))\n",
    "    result = c.fetchone()\n",
    "    conn.close()\n",
    "    return result if result else (\"Unknown\", \"Consult a cybersecurity expert\")\n",
    "\n",
    "\n",
    "# LangChain for Agentic Workflow\n",
    "def create_llm_chain():\n",
    "    llm = HuggingFacePipeline.from_model_id(\n",
    "        model_id='gpt2',\n",
    "        task='text-generation',\n",
    "        pipeline_kwargs={'max_length': 100, 'truncation': True}\n",
    "    )\n",
    "    \n",
    "    prompt = PromptTemplate(\n",
    "        input_variables=[\"user_input\", \"threat_data\"],\n",
    "        template=\"Given the user input: '{user_input}' and threat data: '{threat_data}', provide a concise cybersecurity risk assessment.\"\n",
    "    )\n",
    "    \n",
    "    # Use RunnableSequence\n",
    "    return RunnableSequence(prompt | llm)\n",
    "\n",
    "# Test the Chatbot\n",
    "def test_chatbot(user_input):\n",
    "    # Mock vulnerability detection\n",
    "    vulnerability = \"Phishing\" if \"email\" in user_input.lower() else \"Ransomware\"\n",
    "    risk_level, mitigation = query_threat(vulnerability)\n",
    "    threat_data = f\"Vulnerability: {vulnerability}, Risk: {risk_level}, Mitigation: {mitigation}\"\n",
    "    \n",
    "    # Generate response with LLM\n",
    "    llm_chain = create_llm_chain()\n",
    "    response = llm_chain.invoke({\"user_input\": user_input, \"threat_data\": threat_data})\n",
    "    \n",
    "    print(f\"Input: {user_input}\")\n",
    "    print(f\"Response: {response}\")\n",
    "\n",
    "# Test Run\n",
    "if __name__ == \"__main__\":\n",
    "    test_chatbot(\"We use cloud servers\")"
   ]
  },
  {
   "cell_type": "code",
   "execution_count": null,
   "id": "85e0b7e1-42e0-4bef-a892-9eb41bacca5b",
   "metadata": {},
   "outputs": [],
   "source": []
  }
 ],
 "metadata": {
  "kernelspec": {
   "display_name": "surf_env",
   "language": "python",
   "name": "surf_env"
  },
  "language_info": {
   "codemirror_mode": {
    "name": "ipython",
    "version": 3
   },
   "file_extension": ".py",
   "mimetype": "text/x-python",
   "name": "python",
   "nbconvert_exporter": "python",
   "pygments_lexer": "ipython3",
   "version": "3.9.13"
  }
 },
 "nbformat": 4,
 "nbformat_minor": 5
}
